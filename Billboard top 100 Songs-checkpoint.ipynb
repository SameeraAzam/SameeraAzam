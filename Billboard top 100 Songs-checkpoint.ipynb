{
 "cells": [
  {
   "cell_type": "markdown",
   "id": "50f1f936",
   "metadata": {},
   "source": [
    "# Exploratory Data Analysis of Billboard top 100 songs"
   ]
  },
  {
   "cell_type": "markdown",
   "id": "de355ab4",
   "metadata": {},
   "source": [
    "# Introduction"
   ]
  },
  {
   "cell_type": "markdown",
   "id": "202a4de1",
   "metadata": {},
   "source": [
    "The Billboard Hot 100 is a weekly chart that ranks the 100 most popular songs in the United States across all genres. The chart is based on a combination of sales, radio airplay, and streaming data. The Billboard Hot 100 is considered one of the most authoritative charts in the music industry and has been published by Billboard magazine since 1958. The rankings are updated every week and reflect the popularity of the songs based on their performance during the previous week. The songs are ranked according to a formula that takes into account sales, airplay, and streaming data, with each of these factors weighted differently.\n",
    "\n",
    "In this pipeline, we will be working on a billboard top 100 songs data, and use different python and visualization techniques to find interesting insights about the data."
   ]
  },
  {
   "cell_type": "markdown",
   "id": "56112cee",
   "metadata": {},
   "source": [
    "# About the Dataset"
   ]
  },
  {
   "cell_type": "markdown",
   "id": "b36ee942",
   "metadata": {},
   "source": [
    "The dataset was found on kaggle, and contains more than 300,000 data entries from the year 1958 to 2021, the ranking for songs are published weekly. The dataset also contains, 7 features, which are,\n",
    "\n",
    "1 - ***Date*** - The date of Chart Publishing\n",
    "\n",
    "2 - ***Rank*** - The Rank of the song \n",
    "\n",
    "3 - ***Song*** - The Name of the Song\n",
    "\n",
    "4 - ***Artist*** - The Name of the Artist\n",
    "\n",
    "5 - ***Last-Week*** - Rank held last week\n",
    "\n",
    "6 - ***Peak-Rank*** - The highest rank for a song\n",
    "\n",
    "7 - ***Weeks-on-Board*** - The number of weeks, the song stayed on the charts."
   ]
  },
  {
   "cell_type": "markdown",
   "id": "52bf6894",
   "metadata": {},
   "source": [
    "# Importing Libraries"
   ]
  },
  {
   "cell_type": "code",
   "execution_count": 1,
   "id": "14ac2b2d",
   "metadata": {},
   "outputs": [],
   "source": [
    "import pandas            as pd\n",
    "import seaborn           as sns\n",
    "import matplotlib.pyplot as plt\n",
    "\n",
    "import datetime"
   ]
  },
  {
   "cell_type": "markdown",
   "id": "ef545149",
   "metadata": {},
   "source": [
    "# Importing the Dataset"
   ]
  },
  {
   "cell_type": "code",
   "execution_count": 2,
   "id": "013c46be",
   "metadata": {
    "scrolled": true
   },
   "outputs": [
    {
     "data": {
      "text/html": [
       "<div>\n",
       "<style scoped>\n",
       "    .dataframe tbody tr th:only-of-type {\n",
       "        vertical-align: middle;\n",
       "    }\n",
       "\n",
       "    .dataframe tbody tr th {\n",
       "        vertical-align: top;\n",
       "    }\n",
       "\n",
       "    .dataframe thead th {\n",
       "        text-align: right;\n",
       "    }\n",
       "</style>\n",
       "<table border=\"1\" class=\"dataframe\">\n",
       "  <thead>\n",
       "    <tr style=\"text-align: right;\">\n",
       "      <th></th>\n",
       "      <th>date</th>\n",
       "      <th>rank</th>\n",
       "      <th>song</th>\n",
       "      <th>artist</th>\n",
       "      <th>last-week</th>\n",
       "      <th>peak-rank</th>\n",
       "      <th>weeks-on-board</th>\n",
       "    </tr>\n",
       "  </thead>\n",
       "  <tbody>\n",
       "    <tr>\n",
       "      <th>0</th>\n",
       "      <td>2021-11-06</td>\n",
       "      <td>1</td>\n",
       "      <td>Easy On Me</td>\n",
       "      <td>Adele</td>\n",
       "      <td>1.0</td>\n",
       "      <td>1</td>\n",
       "      <td>3</td>\n",
       "    </tr>\n",
       "    <tr>\n",
       "      <th>1</th>\n",
       "      <td>2021-11-06</td>\n",
       "      <td>2</td>\n",
       "      <td>Stay</td>\n",
       "      <td>The Kid LAROI &amp; Justin Bieber</td>\n",
       "      <td>2.0</td>\n",
       "      <td>1</td>\n",
       "      <td>16</td>\n",
       "    </tr>\n",
       "    <tr>\n",
       "      <th>2</th>\n",
       "      <td>2021-11-06</td>\n",
       "      <td>3</td>\n",
       "      <td>Industry Baby</td>\n",
       "      <td>Lil Nas X &amp; Jack Harlow</td>\n",
       "      <td>3.0</td>\n",
       "      <td>1</td>\n",
       "      <td>14</td>\n",
       "    </tr>\n",
       "    <tr>\n",
       "      <th>3</th>\n",
       "      <td>2021-11-06</td>\n",
       "      <td>4</td>\n",
       "      <td>Fancy Like</td>\n",
       "      <td>Walker Hayes</td>\n",
       "      <td>4.0</td>\n",
       "      <td>3</td>\n",
       "      <td>19</td>\n",
       "    </tr>\n",
       "    <tr>\n",
       "      <th>4</th>\n",
       "      <td>2021-11-06</td>\n",
       "      <td>5</td>\n",
       "      <td>Bad Habits</td>\n",
       "      <td>Ed Sheeran</td>\n",
       "      <td>5.0</td>\n",
       "      <td>2</td>\n",
       "      <td>18</td>\n",
       "    </tr>\n",
       "    <tr>\n",
       "      <th>...</th>\n",
       "      <td>...</td>\n",
       "      <td>...</td>\n",
       "      <td>...</td>\n",
       "      <td>...</td>\n",
       "      <td>...</td>\n",
       "      <td>...</td>\n",
       "      <td>...</td>\n",
       "    </tr>\n",
       "    <tr>\n",
       "      <th>330082</th>\n",
       "      <td>1958-08-04</td>\n",
       "      <td>96</td>\n",
       "      <td>Over And Over</td>\n",
       "      <td>Thurston Harris</td>\n",
       "      <td>NaN</td>\n",
       "      <td>96</td>\n",
       "      <td>1</td>\n",
       "    </tr>\n",
       "    <tr>\n",
       "      <th>330083</th>\n",
       "      <td>1958-08-04</td>\n",
       "      <td>97</td>\n",
       "      <td>I Believe In You</td>\n",
       "      <td>Robert &amp; Johnny</td>\n",
       "      <td>NaN</td>\n",
       "      <td>97</td>\n",
       "      <td>1</td>\n",
       "    </tr>\n",
       "    <tr>\n",
       "      <th>330084</th>\n",
       "      <td>1958-08-04</td>\n",
       "      <td>98</td>\n",
       "      <td>Little Serenade</td>\n",
       "      <td>The Ames Brothers</td>\n",
       "      <td>NaN</td>\n",
       "      <td>98</td>\n",
       "      <td>1</td>\n",
       "    </tr>\n",
       "    <tr>\n",
       "      <th>330085</th>\n",
       "      <td>1958-08-04</td>\n",
       "      <td>99</td>\n",
       "      <td>I'll Get By (As Long As I Have You)</td>\n",
       "      <td>Billy Williams</td>\n",
       "      <td>NaN</td>\n",
       "      <td>99</td>\n",
       "      <td>1</td>\n",
       "    </tr>\n",
       "    <tr>\n",
       "      <th>330086</th>\n",
       "      <td>1958-08-04</td>\n",
       "      <td>100</td>\n",
       "      <td>Judy</td>\n",
       "      <td>Frankie Vaughan</td>\n",
       "      <td>NaN</td>\n",
       "      <td>100</td>\n",
       "      <td>1</td>\n",
       "    </tr>\n",
       "  </tbody>\n",
       "</table>\n",
       "<p>330087 rows × 7 columns</p>\n",
       "</div>"
      ],
      "text/plain": [
       "              date  rank                                 song  \\\n",
       "0       2021-11-06     1                           Easy On Me   \n",
       "1       2021-11-06     2                                 Stay   \n",
       "2       2021-11-06     3                        Industry Baby   \n",
       "3       2021-11-06     4                           Fancy Like   \n",
       "4       2021-11-06     5                           Bad Habits   \n",
       "...            ...   ...                                  ...   \n",
       "330082  1958-08-04    96                        Over And Over   \n",
       "330083  1958-08-04    97                     I Believe In You   \n",
       "330084  1958-08-04    98                      Little Serenade   \n",
       "330085  1958-08-04    99  I'll Get By (As Long As I Have You)   \n",
       "330086  1958-08-04   100                                 Judy   \n",
       "\n",
       "                               artist  last-week  peak-rank  weeks-on-board  \n",
       "0                               Adele        1.0          1               3  \n",
       "1       The Kid LAROI & Justin Bieber        2.0          1              16  \n",
       "2             Lil Nas X & Jack Harlow        3.0          1              14  \n",
       "3                        Walker Hayes        4.0          3              19  \n",
       "4                          Ed Sheeran        5.0          2              18  \n",
       "...                               ...        ...        ...             ...  \n",
       "330082                Thurston Harris        NaN         96               1  \n",
       "330083                Robert & Johnny        NaN         97               1  \n",
       "330084              The Ames Brothers        NaN         98               1  \n",
       "330085                 Billy Williams        NaN         99               1  \n",
       "330086                Frankie Vaughan        NaN        100               1  \n",
       "\n",
       "[330087 rows x 7 columns]"
      ]
     },
     "execution_count": 2,
     "metadata": {},
     "output_type": "execute_result"
    }
   ],
   "source": [
    "df = pd.read_csv('charts.csv')\n",
    "df"
   ]
  },
  {
   "cell_type": "markdown",
   "id": "d23116af",
   "metadata": {},
   "source": [
    "# Data Preprocessing"
   ]
  },
  {
   "cell_type": "markdown",
   "id": "fce49a8e",
   "metadata": {},
   "source": [
    "Looking at the dataset, we can that we have a very large dataset, with values ranging from the year 1958 to 2021, thats a span of 63 years. We are more interested in chart trends for the contemporary years, therefore we will trim the dataset, and look at the entries for the year of 2021 only."
   ]
  },
  {
   "cell_type": "markdown",
   "id": "d393ee87",
   "metadata": {},
   "source": [
    "### Transforming the Date Column"
   ]
  },
  {
   "cell_type": "markdown",
   "id": "33e9ff5f",
   "metadata": {},
   "source": [
    "We have established hat we will only be working on the chart ranking for the year 2021, so to trim the dataset only to the year 2021, we need to transfrm the date column, into three new columns namely, **Date, Month and Year**. To do this we will use the ***Datetime*** library to create three new columns."
   ]
  },
  {
   "cell_type": "code",
   "execution_count": 3,
   "id": "a3d5ed66",
   "metadata": {},
   "outputs": [
    {
     "data": {
      "text/html": [
       "<div>\n",
       "<style scoped>\n",
       "    .dataframe tbody tr th:only-of-type {\n",
       "        vertical-align: middle;\n",
       "    }\n",
       "\n",
       "    .dataframe tbody tr th {\n",
       "        vertical-align: top;\n",
       "    }\n",
       "\n",
       "    .dataframe thead th {\n",
       "        text-align: right;\n",
       "    }\n",
       "</style>\n",
       "<table border=\"1\" class=\"dataframe\">\n",
       "  <thead>\n",
       "    <tr style=\"text-align: right;\">\n",
       "      <th></th>\n",
       "      <th>date</th>\n",
       "      <th>rank</th>\n",
       "      <th>song</th>\n",
       "      <th>artist</th>\n",
       "      <th>last-week</th>\n",
       "      <th>peak-rank</th>\n",
       "      <th>weeks-on-board</th>\n",
       "      <th>year</th>\n",
       "      <th>month</th>\n",
       "      <th>day</th>\n",
       "    </tr>\n",
       "  </thead>\n",
       "  <tbody>\n",
       "    <tr>\n",
       "      <th>0</th>\n",
       "      <td>2021-11-06</td>\n",
       "      <td>1</td>\n",
       "      <td>Easy On Me</td>\n",
       "      <td>Adele</td>\n",
       "      <td>1.0</td>\n",
       "      <td>1</td>\n",
       "      <td>3</td>\n",
       "      <td>2021</td>\n",
       "      <td>11</td>\n",
       "      <td>6</td>\n",
       "    </tr>\n",
       "    <tr>\n",
       "      <th>1</th>\n",
       "      <td>2021-11-06</td>\n",
       "      <td>2</td>\n",
       "      <td>Stay</td>\n",
       "      <td>The Kid LAROI &amp; Justin Bieber</td>\n",
       "      <td>2.0</td>\n",
       "      <td>1</td>\n",
       "      <td>16</td>\n",
       "      <td>2021</td>\n",
       "      <td>11</td>\n",
       "      <td>6</td>\n",
       "    </tr>\n",
       "    <tr>\n",
       "      <th>2</th>\n",
       "      <td>2021-11-06</td>\n",
       "      <td>3</td>\n",
       "      <td>Industry Baby</td>\n",
       "      <td>Lil Nas X &amp; Jack Harlow</td>\n",
       "      <td>3.0</td>\n",
       "      <td>1</td>\n",
       "      <td>14</td>\n",
       "      <td>2021</td>\n",
       "      <td>11</td>\n",
       "      <td>6</td>\n",
       "    </tr>\n",
       "    <tr>\n",
       "      <th>3</th>\n",
       "      <td>2021-11-06</td>\n",
       "      <td>4</td>\n",
       "      <td>Fancy Like</td>\n",
       "      <td>Walker Hayes</td>\n",
       "      <td>4.0</td>\n",
       "      <td>3</td>\n",
       "      <td>19</td>\n",
       "      <td>2021</td>\n",
       "      <td>11</td>\n",
       "      <td>6</td>\n",
       "    </tr>\n",
       "    <tr>\n",
       "      <th>4</th>\n",
       "      <td>2021-11-06</td>\n",
       "      <td>5</td>\n",
       "      <td>Bad Habits</td>\n",
       "      <td>Ed Sheeran</td>\n",
       "      <td>5.0</td>\n",
       "      <td>2</td>\n",
       "      <td>18</td>\n",
       "      <td>2021</td>\n",
       "      <td>11</td>\n",
       "      <td>6</td>\n",
       "    </tr>\n",
       "    <tr>\n",
       "      <th>...</th>\n",
       "      <td>...</td>\n",
       "      <td>...</td>\n",
       "      <td>...</td>\n",
       "      <td>...</td>\n",
       "      <td>...</td>\n",
       "      <td>...</td>\n",
       "      <td>...</td>\n",
       "      <td>...</td>\n",
       "      <td>...</td>\n",
       "      <td>...</td>\n",
       "    </tr>\n",
       "    <tr>\n",
       "      <th>330082</th>\n",
       "      <td>1958-08-04</td>\n",
       "      <td>96</td>\n",
       "      <td>Over And Over</td>\n",
       "      <td>Thurston Harris</td>\n",
       "      <td>NaN</td>\n",
       "      <td>96</td>\n",
       "      <td>1</td>\n",
       "      <td>1958</td>\n",
       "      <td>8</td>\n",
       "      <td>4</td>\n",
       "    </tr>\n",
       "    <tr>\n",
       "      <th>330083</th>\n",
       "      <td>1958-08-04</td>\n",
       "      <td>97</td>\n",
       "      <td>I Believe In You</td>\n",
       "      <td>Robert &amp; Johnny</td>\n",
       "      <td>NaN</td>\n",
       "      <td>97</td>\n",
       "      <td>1</td>\n",
       "      <td>1958</td>\n",
       "      <td>8</td>\n",
       "      <td>4</td>\n",
       "    </tr>\n",
       "    <tr>\n",
       "      <th>330084</th>\n",
       "      <td>1958-08-04</td>\n",
       "      <td>98</td>\n",
       "      <td>Little Serenade</td>\n",
       "      <td>The Ames Brothers</td>\n",
       "      <td>NaN</td>\n",
       "      <td>98</td>\n",
       "      <td>1</td>\n",
       "      <td>1958</td>\n",
       "      <td>8</td>\n",
       "      <td>4</td>\n",
       "    </tr>\n",
       "    <tr>\n",
       "      <th>330085</th>\n",
       "      <td>1958-08-04</td>\n",
       "      <td>99</td>\n",
       "      <td>I'll Get By (As Long As I Have You)</td>\n",
       "      <td>Billy Williams</td>\n",
       "      <td>NaN</td>\n",
       "      <td>99</td>\n",
       "      <td>1</td>\n",
       "      <td>1958</td>\n",
       "      <td>8</td>\n",
       "      <td>4</td>\n",
       "    </tr>\n",
       "    <tr>\n",
       "      <th>330086</th>\n",
       "      <td>1958-08-04</td>\n",
       "      <td>100</td>\n",
       "      <td>Judy</td>\n",
       "      <td>Frankie Vaughan</td>\n",
       "      <td>NaN</td>\n",
       "      <td>100</td>\n",
       "      <td>1</td>\n",
       "      <td>1958</td>\n",
       "      <td>8</td>\n",
       "      <td>4</td>\n",
       "    </tr>\n",
       "  </tbody>\n",
       "</table>\n",
       "<p>330087 rows × 10 columns</p>\n",
       "</div>"
      ],
      "text/plain": [
       "              date  rank                                 song  \\\n",
       "0       2021-11-06     1                           Easy On Me   \n",
       "1       2021-11-06     2                                 Stay   \n",
       "2       2021-11-06     3                        Industry Baby   \n",
       "3       2021-11-06     4                           Fancy Like   \n",
       "4       2021-11-06     5                           Bad Habits   \n",
       "...            ...   ...                                  ...   \n",
       "330082  1958-08-04    96                        Over And Over   \n",
       "330083  1958-08-04    97                     I Believe In You   \n",
       "330084  1958-08-04    98                      Little Serenade   \n",
       "330085  1958-08-04    99  I'll Get By (As Long As I Have You)   \n",
       "330086  1958-08-04   100                                 Judy   \n",
       "\n",
       "                               artist  last-week  peak-rank  weeks-on-board  \\\n",
       "0                               Adele        1.0          1               3   \n",
       "1       The Kid LAROI & Justin Bieber        2.0          1              16   \n",
       "2             Lil Nas X & Jack Harlow        3.0          1              14   \n",
       "3                        Walker Hayes        4.0          3              19   \n",
       "4                          Ed Sheeran        5.0          2              18   \n",
       "...                               ...        ...        ...             ...   \n",
       "330082                Thurston Harris        NaN         96               1   \n",
       "330083                Robert & Johnny        NaN         97               1   \n",
       "330084              The Ames Brothers        NaN         98               1   \n",
       "330085                 Billy Williams        NaN         99               1   \n",
       "330086                Frankie Vaughan        NaN        100               1   \n",
       "\n",
       "        year  month  day  \n",
       "0       2021     11    6  \n",
       "1       2021     11    6  \n",
       "2       2021     11    6  \n",
       "3       2021     11    6  \n",
       "4       2021     11    6  \n",
       "...      ...    ...  ...  \n",
       "330082  1958      8    4  \n",
       "330083  1958      8    4  \n",
       "330084  1958      8    4  \n",
       "330085  1958      8    4  \n",
       "330086  1958      8    4  \n",
       "\n",
       "[330087 rows x 10 columns]"
      ]
     },
     "execution_count": 3,
     "metadata": {},
     "output_type": "execute_result"
    }
   ],
   "source": [
    "df['year'] = pd.DatetimeIndex(df['date']).year\n",
    "df['month'] = pd.DatetimeIndex(df['date']).month\n",
    "df['day'] = pd.DatetimeIndex(df['date']).day\n",
    "\n",
    "df"
   ]
  },
  {
   "cell_type": "markdown",
   "id": "c794abe7",
   "metadata": {},
   "source": [
    "Repositioning the columns, and removing the old date columns, which is not needed now."
   ]
  },
  {
   "cell_type": "code",
   "execution_count": 4,
   "id": "b4f4a29f",
   "metadata": {},
   "outputs": [
    {
     "data": {
      "text/html": [
       "<div>\n",
       "<style scoped>\n",
       "    .dataframe tbody tr th:only-of-type {\n",
       "        vertical-align: middle;\n",
       "    }\n",
       "\n",
       "    .dataframe tbody tr th {\n",
       "        vertical-align: top;\n",
       "    }\n",
       "\n",
       "    .dataframe thead th {\n",
       "        text-align: right;\n",
       "    }\n",
       "</style>\n",
       "<table border=\"1\" class=\"dataframe\">\n",
       "  <thead>\n",
       "    <tr style=\"text-align: right;\">\n",
       "      <th></th>\n",
       "      <th>day</th>\n",
       "      <th>month</th>\n",
       "      <th>year</th>\n",
       "      <th>rank</th>\n",
       "      <th>song</th>\n",
       "      <th>artist</th>\n",
       "      <th>last-week</th>\n",
       "      <th>peak-rank</th>\n",
       "      <th>weeks-on-board</th>\n",
       "    </tr>\n",
       "  </thead>\n",
       "  <tbody>\n",
       "    <tr>\n",
       "      <th>0</th>\n",
       "      <td>6</td>\n",
       "      <td>11</td>\n",
       "      <td>2021</td>\n",
       "      <td>1</td>\n",
       "      <td>Easy On Me</td>\n",
       "      <td>Adele</td>\n",
       "      <td>1.0</td>\n",
       "      <td>1</td>\n",
       "      <td>3</td>\n",
       "    </tr>\n",
       "    <tr>\n",
       "      <th>1</th>\n",
       "      <td>6</td>\n",
       "      <td>11</td>\n",
       "      <td>2021</td>\n",
       "      <td>2</td>\n",
       "      <td>Stay</td>\n",
       "      <td>The Kid LAROI &amp; Justin Bieber</td>\n",
       "      <td>2.0</td>\n",
       "      <td>1</td>\n",
       "      <td>16</td>\n",
       "    </tr>\n",
       "    <tr>\n",
       "      <th>2</th>\n",
       "      <td>6</td>\n",
       "      <td>11</td>\n",
       "      <td>2021</td>\n",
       "      <td>3</td>\n",
       "      <td>Industry Baby</td>\n",
       "      <td>Lil Nas X &amp; Jack Harlow</td>\n",
       "      <td>3.0</td>\n",
       "      <td>1</td>\n",
       "      <td>14</td>\n",
       "    </tr>\n",
       "    <tr>\n",
       "      <th>3</th>\n",
       "      <td>6</td>\n",
       "      <td>11</td>\n",
       "      <td>2021</td>\n",
       "      <td>4</td>\n",
       "      <td>Fancy Like</td>\n",
       "      <td>Walker Hayes</td>\n",
       "      <td>4.0</td>\n",
       "      <td>3</td>\n",
       "      <td>19</td>\n",
       "    </tr>\n",
       "    <tr>\n",
       "      <th>4</th>\n",
       "      <td>6</td>\n",
       "      <td>11</td>\n",
       "      <td>2021</td>\n",
       "      <td>5</td>\n",
       "      <td>Bad Habits</td>\n",
       "      <td>Ed Sheeran</td>\n",
       "      <td>5.0</td>\n",
       "      <td>2</td>\n",
       "      <td>18</td>\n",
       "    </tr>\n",
       "    <tr>\n",
       "      <th>...</th>\n",
       "      <td>...</td>\n",
       "      <td>...</td>\n",
       "      <td>...</td>\n",
       "      <td>...</td>\n",
       "      <td>...</td>\n",
       "      <td>...</td>\n",
       "      <td>...</td>\n",
       "      <td>...</td>\n",
       "      <td>...</td>\n",
       "    </tr>\n",
       "    <tr>\n",
       "      <th>330082</th>\n",
       "      <td>4</td>\n",
       "      <td>8</td>\n",
       "      <td>1958</td>\n",
       "      <td>96</td>\n",
       "      <td>Over And Over</td>\n",
       "      <td>Thurston Harris</td>\n",
       "      <td>NaN</td>\n",
       "      <td>96</td>\n",
       "      <td>1</td>\n",
       "    </tr>\n",
       "    <tr>\n",
       "      <th>330083</th>\n",
       "      <td>4</td>\n",
       "      <td>8</td>\n",
       "      <td>1958</td>\n",
       "      <td>97</td>\n",
       "      <td>I Believe In You</td>\n",
       "      <td>Robert &amp; Johnny</td>\n",
       "      <td>NaN</td>\n",
       "      <td>97</td>\n",
       "      <td>1</td>\n",
       "    </tr>\n",
       "    <tr>\n",
       "      <th>330084</th>\n",
       "      <td>4</td>\n",
       "      <td>8</td>\n",
       "      <td>1958</td>\n",
       "      <td>98</td>\n",
       "      <td>Little Serenade</td>\n",
       "      <td>The Ames Brothers</td>\n",
       "      <td>NaN</td>\n",
       "      <td>98</td>\n",
       "      <td>1</td>\n",
       "    </tr>\n",
       "    <tr>\n",
       "      <th>330085</th>\n",
       "      <td>4</td>\n",
       "      <td>8</td>\n",
       "      <td>1958</td>\n",
       "      <td>99</td>\n",
       "      <td>I'll Get By (As Long As I Have You)</td>\n",
       "      <td>Billy Williams</td>\n",
       "      <td>NaN</td>\n",
       "      <td>99</td>\n",
       "      <td>1</td>\n",
       "    </tr>\n",
       "    <tr>\n",
       "      <th>330086</th>\n",
       "      <td>4</td>\n",
       "      <td>8</td>\n",
       "      <td>1958</td>\n",
       "      <td>100</td>\n",
       "      <td>Judy</td>\n",
       "      <td>Frankie Vaughan</td>\n",
       "      <td>NaN</td>\n",
       "      <td>100</td>\n",
       "      <td>1</td>\n",
       "    </tr>\n",
       "  </tbody>\n",
       "</table>\n",
       "<p>330087 rows × 9 columns</p>\n",
       "</div>"
      ],
      "text/plain": [
       "        day  month  year  rank                                 song  \\\n",
       "0         6     11  2021     1                           Easy On Me   \n",
       "1         6     11  2021     2                                 Stay   \n",
       "2         6     11  2021     3                        Industry Baby   \n",
       "3         6     11  2021     4                           Fancy Like   \n",
       "4         6     11  2021     5                           Bad Habits   \n",
       "...     ...    ...   ...   ...                                  ...   \n",
       "330082    4      8  1958    96                        Over And Over   \n",
       "330083    4      8  1958    97                     I Believe In You   \n",
       "330084    4      8  1958    98                      Little Serenade   \n",
       "330085    4      8  1958    99  I'll Get By (As Long As I Have You)   \n",
       "330086    4      8  1958   100                                 Judy   \n",
       "\n",
       "                               artist  last-week  peak-rank  weeks-on-board  \n",
       "0                               Adele        1.0          1               3  \n",
       "1       The Kid LAROI & Justin Bieber        2.0          1              16  \n",
       "2             Lil Nas X & Jack Harlow        3.0          1              14  \n",
       "3                        Walker Hayes        4.0          3              19  \n",
       "4                          Ed Sheeran        5.0          2              18  \n",
       "...                               ...        ...        ...             ...  \n",
       "330082                Thurston Harris        NaN         96               1  \n",
       "330083                Robert & Johnny        NaN         97               1  \n",
       "330084              The Ames Brothers        NaN         98               1  \n",
       "330085                 Billy Williams        NaN         99               1  \n",
       "330086                Frankie Vaughan        NaN        100               1  \n",
       "\n",
       "[330087 rows x 9 columns]"
      ]
     },
     "execution_count": 4,
     "metadata": {},
     "output_type": "execute_result"
    }
   ],
   "source": [
    "day = df.pop('day')\n",
    "month = df.pop('month')\n",
    "year = df.pop('year')\n",
    "\n",
    "df.insert(0, 'day', day)\n",
    "df.insert(1,'month',month)\n",
    "df.insert(2, 'year', year)\n",
    "\n",
    "df = df.drop('date', axis = 1)\n",
    "\n",
    "df"
   ]
  },
  {
   "cell_type": "markdown",
   "id": "e9820641",
   "metadata": {},
   "source": [
    "Now that date has been transformed into seperate columns, we can restrict the dataset, for the year 2021,"
   ]
  },
  {
   "cell_type": "markdown",
   "id": "6d988566",
   "metadata": {},
   "source": [
    "## Trimming the Dataset"
   ]
  },
  {
   "cell_type": "code",
   "execution_count": 5,
   "id": "2ed8c6b7",
   "metadata": {},
   "outputs": [
    {
     "data": {
      "text/html": [
       "<div>\n",
       "<style scoped>\n",
       "    .dataframe tbody tr th:only-of-type {\n",
       "        vertical-align: middle;\n",
       "    }\n",
       "\n",
       "    .dataframe tbody tr th {\n",
       "        vertical-align: top;\n",
       "    }\n",
       "\n",
       "    .dataframe thead th {\n",
       "        text-align: right;\n",
       "    }\n",
       "</style>\n",
       "<table border=\"1\" class=\"dataframe\">\n",
       "  <thead>\n",
       "    <tr style=\"text-align: right;\">\n",
       "      <th></th>\n",
       "      <th>day</th>\n",
       "      <th>month</th>\n",
       "      <th>year</th>\n",
       "      <th>rank</th>\n",
       "      <th>song</th>\n",
       "      <th>artist</th>\n",
       "      <th>last-week</th>\n",
       "      <th>peak-rank</th>\n",
       "      <th>weeks-on-board</th>\n",
       "    </tr>\n",
       "  </thead>\n",
       "  <tbody>\n",
       "    <tr>\n",
       "      <th>0</th>\n",
       "      <td>6</td>\n",
       "      <td>11</td>\n",
       "      <td>2021</td>\n",
       "      <td>1</td>\n",
       "      <td>Easy On Me</td>\n",
       "      <td>Adele</td>\n",
       "      <td>1.0</td>\n",
       "      <td>1</td>\n",
       "      <td>3</td>\n",
       "    </tr>\n",
       "    <tr>\n",
       "      <th>1</th>\n",
       "      <td>6</td>\n",
       "      <td>11</td>\n",
       "      <td>2021</td>\n",
       "      <td>2</td>\n",
       "      <td>Stay</td>\n",
       "      <td>The Kid LAROI &amp; Justin Bieber</td>\n",
       "      <td>2.0</td>\n",
       "      <td>1</td>\n",
       "      <td>16</td>\n",
       "    </tr>\n",
       "    <tr>\n",
       "      <th>2</th>\n",
       "      <td>6</td>\n",
       "      <td>11</td>\n",
       "      <td>2021</td>\n",
       "      <td>3</td>\n",
       "      <td>Industry Baby</td>\n",
       "      <td>Lil Nas X &amp; Jack Harlow</td>\n",
       "      <td>3.0</td>\n",
       "      <td>1</td>\n",
       "      <td>14</td>\n",
       "    </tr>\n",
       "    <tr>\n",
       "      <th>3</th>\n",
       "      <td>6</td>\n",
       "      <td>11</td>\n",
       "      <td>2021</td>\n",
       "      <td>4</td>\n",
       "      <td>Fancy Like</td>\n",
       "      <td>Walker Hayes</td>\n",
       "      <td>4.0</td>\n",
       "      <td>3</td>\n",
       "      <td>19</td>\n",
       "    </tr>\n",
       "    <tr>\n",
       "      <th>4</th>\n",
       "      <td>6</td>\n",
       "      <td>11</td>\n",
       "      <td>2021</td>\n",
       "      <td>5</td>\n",
       "      <td>Bad Habits</td>\n",
       "      <td>Ed Sheeran</td>\n",
       "      <td>5.0</td>\n",
       "      <td>2</td>\n",
       "      <td>18</td>\n",
       "    </tr>\n",
       "    <tr>\n",
       "      <th>...</th>\n",
       "      <td>...</td>\n",
       "      <td>...</td>\n",
       "      <td>...</td>\n",
       "      <td>...</td>\n",
       "      <td>...</td>\n",
       "      <td>...</td>\n",
       "      <td>...</td>\n",
       "      <td>...</td>\n",
       "      <td>...</td>\n",
       "    </tr>\n",
       "    <tr>\n",
       "      <th>4495</th>\n",
       "      <td>2</td>\n",
       "      <td>1</td>\n",
       "      <td>2021</td>\n",
       "      <td>96</td>\n",
       "      <td>Hole In The Bottle</td>\n",
       "      <td>Kelsea Ballerini</td>\n",
       "      <td>NaN</td>\n",
       "      <td>72</td>\n",
       "      <td>10</td>\n",
       "    </tr>\n",
       "    <tr>\n",
       "      <th>4496</th>\n",
       "      <td>2</td>\n",
       "      <td>1</td>\n",
       "      <td>2021</td>\n",
       "      <td>97</td>\n",
       "      <td>No Body, No Crime</td>\n",
       "      <td>Taylor Swift Featuring HAIM</td>\n",
       "      <td>34.0</td>\n",
       "      <td>34</td>\n",
       "      <td>2</td>\n",
       "    </tr>\n",
       "    <tr>\n",
       "      <th>4497</th>\n",
       "      <td>2</td>\n",
       "      <td>1</td>\n",
       "      <td>2021</td>\n",
       "      <td>98</td>\n",
       "      <td>Moonwalking In Calabasas</td>\n",
       "      <td>DDG</td>\n",
       "      <td>NaN</td>\n",
       "      <td>98</td>\n",
       "      <td>1</td>\n",
       "    </tr>\n",
       "    <tr>\n",
       "      <th>4498</th>\n",
       "      <td>2</td>\n",
       "      <td>1</td>\n",
       "      <td>2021</td>\n",
       "      <td>99</td>\n",
       "      <td>Took Her To The O</td>\n",
       "      <td>King Von</td>\n",
       "      <td>NaN</td>\n",
       "      <td>47</td>\n",
       "      <td>6</td>\n",
       "    </tr>\n",
       "    <tr>\n",
       "      <th>4499</th>\n",
       "      <td>2</td>\n",
       "      <td>1</td>\n",
       "      <td>2021</td>\n",
       "      <td>100</td>\n",
       "      <td>Put Your Records On</td>\n",
       "      <td>Ritt Momney</td>\n",
       "      <td>NaN</td>\n",
       "      <td>79</td>\n",
       "      <td>10</td>\n",
       "    </tr>\n",
       "  </tbody>\n",
       "</table>\n",
       "<p>4500 rows × 9 columns</p>\n",
       "</div>"
      ],
      "text/plain": [
       "      day  month  year  rank                      song  \\\n",
       "0       6     11  2021     1                Easy On Me   \n",
       "1       6     11  2021     2                      Stay   \n",
       "2       6     11  2021     3             Industry Baby   \n",
       "3       6     11  2021     4                Fancy Like   \n",
       "4       6     11  2021     5                Bad Habits   \n",
       "...   ...    ...   ...   ...                       ...   \n",
       "4495    2      1  2021    96        Hole In The Bottle   \n",
       "4496    2      1  2021    97         No Body, No Crime   \n",
       "4497    2      1  2021    98  Moonwalking In Calabasas   \n",
       "4498    2      1  2021    99         Took Her To The O   \n",
       "4499    2      1  2021   100       Put Your Records On   \n",
       "\n",
       "                             artist  last-week  peak-rank  weeks-on-board  \n",
       "0                             Adele        1.0          1               3  \n",
       "1     The Kid LAROI & Justin Bieber        2.0          1              16  \n",
       "2           Lil Nas X & Jack Harlow        3.0          1              14  \n",
       "3                      Walker Hayes        4.0          3              19  \n",
       "4                        Ed Sheeran        5.0          2              18  \n",
       "...                             ...        ...        ...             ...  \n",
       "4495               Kelsea Ballerini        NaN         72              10  \n",
       "4496    Taylor Swift Featuring HAIM       34.0         34               2  \n",
       "4497                            DDG        NaN         98               1  \n",
       "4498                       King Von        NaN         47               6  \n",
       "4499                    Ritt Momney        NaN         79              10  \n",
       "\n",
       "[4500 rows x 9 columns]"
      ]
     },
     "execution_count": 5,
     "metadata": {},
     "output_type": "execute_result"
    }
   ],
   "source": [
    "df = df.loc[df['year'] == 2021]\n",
    "df"
   ]
  },
  {
   "cell_type": "markdown",
   "id": "04e61db7",
   "metadata": {},
   "source": [
    "# Data Cleaning"
   ]
  },
  {
   "cell_type": "markdown",
   "id": "ac4527b5",
   "metadata": {},
   "source": [
    "### Null Values"
   ]
  },
  {
   "cell_type": "markdown",
   "id": "767066e3",
   "metadata": {},
   "source": [
    "Searching for null values and removing them the dataset,"
   ]
  },
  {
   "cell_type": "code",
   "execution_count": 6,
   "id": "94821133",
   "metadata": {},
   "outputs": [
    {
     "data": {
      "text/plain": [
       "day                 0\n",
       "month               0\n",
       "year                0\n",
       "rank                0\n",
       "song                0\n",
       "artist              0\n",
       "last-week         694\n",
       "peak-rank           0\n",
       "weeks-on-board      0\n",
       "dtype: int64"
      ]
     },
     "execution_count": 6,
     "metadata": {},
     "output_type": "execute_result"
    }
   ],
   "source": [
    "df.isna().sum()"
   ]
  },
  {
   "cell_type": "code",
   "execution_count": 7,
   "id": "72a183d6",
   "metadata": {},
   "outputs": [
    {
     "data": {
      "text/html": [
       "<div>\n",
       "<style scoped>\n",
       "    .dataframe tbody tr th:only-of-type {\n",
       "        vertical-align: middle;\n",
       "    }\n",
       "\n",
       "    .dataframe tbody tr th {\n",
       "        vertical-align: top;\n",
       "    }\n",
       "\n",
       "    .dataframe thead th {\n",
       "        text-align: right;\n",
       "    }\n",
       "</style>\n",
       "<table border=\"1\" class=\"dataframe\">\n",
       "  <thead>\n",
       "    <tr style=\"text-align: right;\">\n",
       "      <th></th>\n",
       "      <th>day</th>\n",
       "      <th>month</th>\n",
       "      <th>year</th>\n",
       "      <th>rank</th>\n",
       "      <th>song</th>\n",
       "      <th>artist</th>\n",
       "      <th>last-week</th>\n",
       "      <th>peak-rank</th>\n",
       "      <th>weeks-on-board</th>\n",
       "    </tr>\n",
       "  </thead>\n",
       "  <tbody>\n",
       "    <tr>\n",
       "      <th>0</th>\n",
       "      <td>6</td>\n",
       "      <td>11</td>\n",
       "      <td>2021</td>\n",
       "      <td>1</td>\n",
       "      <td>Easy On Me</td>\n",
       "      <td>Adele</td>\n",
       "      <td>1.0</td>\n",
       "      <td>1</td>\n",
       "      <td>3</td>\n",
       "    </tr>\n",
       "    <tr>\n",
       "      <th>1</th>\n",
       "      <td>6</td>\n",
       "      <td>11</td>\n",
       "      <td>2021</td>\n",
       "      <td>2</td>\n",
       "      <td>Stay</td>\n",
       "      <td>The Kid LAROI &amp; Justin Bieber</td>\n",
       "      <td>2.0</td>\n",
       "      <td>1</td>\n",
       "      <td>16</td>\n",
       "    </tr>\n",
       "    <tr>\n",
       "      <th>2</th>\n",
       "      <td>6</td>\n",
       "      <td>11</td>\n",
       "      <td>2021</td>\n",
       "      <td>3</td>\n",
       "      <td>Industry Baby</td>\n",
       "      <td>Lil Nas X &amp; Jack Harlow</td>\n",
       "      <td>3.0</td>\n",
       "      <td>1</td>\n",
       "      <td>14</td>\n",
       "    </tr>\n",
       "    <tr>\n",
       "      <th>3</th>\n",
       "      <td>6</td>\n",
       "      <td>11</td>\n",
       "      <td>2021</td>\n",
       "      <td>4</td>\n",
       "      <td>Fancy Like</td>\n",
       "      <td>Walker Hayes</td>\n",
       "      <td>4.0</td>\n",
       "      <td>3</td>\n",
       "      <td>19</td>\n",
       "    </tr>\n",
       "    <tr>\n",
       "      <th>4</th>\n",
       "      <td>6</td>\n",
       "      <td>11</td>\n",
       "      <td>2021</td>\n",
       "      <td>5</td>\n",
       "      <td>Bad Habits</td>\n",
       "      <td>Ed Sheeran</td>\n",
       "      <td>5.0</td>\n",
       "      <td>2</td>\n",
       "      <td>18</td>\n",
       "    </tr>\n",
       "    <tr>\n",
       "      <th>...</th>\n",
       "      <td>...</td>\n",
       "      <td>...</td>\n",
       "      <td>...</td>\n",
       "      <td>...</td>\n",
       "      <td>...</td>\n",
       "      <td>...</td>\n",
       "      <td>...</td>\n",
       "      <td>...</td>\n",
       "      <td>...</td>\n",
       "    </tr>\n",
       "    <tr>\n",
       "      <th>4481</th>\n",
       "      <td>2</td>\n",
       "      <td>1</td>\n",
       "      <td>2021</td>\n",
       "      <td>82</td>\n",
       "      <td>Good Time</td>\n",
       "      <td>Niko Moon</td>\n",
       "      <td>96.0</td>\n",
       "      <td>71</td>\n",
       "      <td>12</td>\n",
       "    </tr>\n",
       "    <tr>\n",
       "      <th>4485</th>\n",
       "      <td>2</td>\n",
       "      <td>1</td>\n",
       "      <td>2021</td>\n",
       "      <td>86</td>\n",
       "      <td>Tequila Shots</td>\n",
       "      <td>Kid Cudi</td>\n",
       "      <td>41.0</td>\n",
       "      <td>41</td>\n",
       "      <td>2</td>\n",
       "    </tr>\n",
       "    <tr>\n",
       "      <th>4488</th>\n",
       "      <td>2</td>\n",
       "      <td>1</td>\n",
       "      <td>2021</td>\n",
       "      <td>89</td>\n",
       "      <td>Way Out</td>\n",
       "      <td>Jack Harlow Featuring Big Sean</td>\n",
       "      <td>74.0</td>\n",
       "      <td>74</td>\n",
       "      <td>2</td>\n",
       "    </tr>\n",
       "    <tr>\n",
       "      <th>4490</th>\n",
       "      <td>2</td>\n",
       "      <td>1</td>\n",
       "      <td>2021</td>\n",
       "      <td>91</td>\n",
       "      <td>'Tis The Damn Season</td>\n",
       "      <td>Taylor Swift</td>\n",
       "      <td>39.0</td>\n",
       "      <td>39</td>\n",
       "      <td>2</td>\n",
       "    </tr>\n",
       "    <tr>\n",
       "      <th>4496</th>\n",
       "      <td>2</td>\n",
       "      <td>1</td>\n",
       "      <td>2021</td>\n",
       "      <td>97</td>\n",
       "      <td>No Body, No Crime</td>\n",
       "      <td>Taylor Swift Featuring HAIM</td>\n",
       "      <td>34.0</td>\n",
       "      <td>34</td>\n",
       "      <td>2</td>\n",
       "    </tr>\n",
       "  </tbody>\n",
       "</table>\n",
       "<p>3806 rows × 9 columns</p>\n",
       "</div>"
      ],
      "text/plain": [
       "      day  month  year  rank                  song  \\\n",
       "0       6     11  2021     1            Easy On Me   \n",
       "1       6     11  2021     2                  Stay   \n",
       "2       6     11  2021     3         Industry Baby   \n",
       "3       6     11  2021     4            Fancy Like   \n",
       "4       6     11  2021     5            Bad Habits   \n",
       "...   ...    ...   ...   ...                   ...   \n",
       "4481    2      1  2021    82             Good Time   \n",
       "4485    2      1  2021    86         Tequila Shots   \n",
       "4488    2      1  2021    89               Way Out   \n",
       "4490    2      1  2021    91  'Tis The Damn Season   \n",
       "4496    2      1  2021    97     No Body, No Crime   \n",
       "\n",
       "                              artist  last-week  peak-rank  weeks-on-board  \n",
       "0                              Adele        1.0          1               3  \n",
       "1      The Kid LAROI & Justin Bieber        2.0          1              16  \n",
       "2            Lil Nas X & Jack Harlow        3.0          1              14  \n",
       "3                       Walker Hayes        4.0          3              19  \n",
       "4                         Ed Sheeran        5.0          2              18  \n",
       "...                              ...        ...        ...             ...  \n",
       "4481                       Niko Moon       96.0         71              12  \n",
       "4485                        Kid Cudi       41.0         41               2  \n",
       "4488  Jack Harlow Featuring Big Sean       74.0         74               2  \n",
       "4490                    Taylor Swift       39.0         39               2  \n",
       "4496     Taylor Swift Featuring HAIM       34.0         34               2  \n",
       "\n",
       "[3806 rows x 9 columns]"
      ]
     },
     "execution_count": 7,
     "metadata": {},
     "output_type": "execute_result"
    }
   ],
   "source": [
    "df = df.dropna()\n",
    "df"
   ]
  },
  {
   "cell_type": "markdown",
   "id": "4f781a73",
   "metadata": {},
   "source": [
    "### Data types"
   ]
  },
  {
   "cell_type": "markdown",
   "id": "a23cf523",
   "metadata": {},
   "source": [
    "Checking the data types,"
   ]
  },
  {
   "cell_type": "code",
   "execution_count": 8,
   "id": "d6f82cb2",
   "metadata": {},
   "outputs": [
    {
     "name": "stdout",
     "output_type": "stream",
     "text": [
      "<class 'pandas.core.frame.DataFrame'>\n",
      "Int64Index: 3806 entries, 0 to 4496\n",
      "Data columns (total 9 columns):\n",
      " #   Column          Non-Null Count  Dtype  \n",
      "---  ------          --------------  -----  \n",
      " 0   day             3806 non-null   int64  \n",
      " 1   month           3806 non-null   int64  \n",
      " 2   year            3806 non-null   int64  \n",
      " 3   rank            3806 non-null   int64  \n",
      " 4   song            3806 non-null   object \n",
      " 5   artist          3806 non-null   object \n",
      " 6   last-week       3806 non-null   float64\n",
      " 7   peak-rank       3806 non-null   int64  \n",
      " 8   weeks-on-board  3806 non-null   int64  \n",
      "dtypes: float64(1), int64(6), object(2)\n",
      "memory usage: 297.3+ KB\n"
     ]
    }
   ],
   "source": [
    "df.info()"
   ]
  },
  {
   "cell_type": "markdown",
   "id": "72f9f6e4",
   "metadata": {},
   "source": [
    "# Data Exploration"
   ]
  },
  {
   "cell_type": "markdown",
   "id": "a44a440e",
   "metadata": {},
   "source": [
    "### Most weeks on board"
   ]
  },
  {
   "cell_type": "code",
   "execution_count": 9,
   "id": "f368e2ea",
   "metadata": {},
   "outputs": [
    {
     "name": "stdout",
     "output_type": "stream",
     "text": [
      "Blinding Lights by The Weeknd is on charts for the longest time for 90 weeks\n"
     ]
    }
   ],
   "source": [
    "week = df.loc[df['weeks-on-board'].idxmax()]\n",
    "print(week['song'], 'by', week['artist'], 'is on charts for the longest time for', week['weeks-on-board'], 'weeks')"
   ]
  },
  {
   "cell_type": "markdown",
   "id": "3f0c425e",
   "metadata": {},
   "source": [
    "### Song appearing most number of times in charts"
   ]
  },
  {
   "cell_type": "code",
   "execution_count": 10,
   "id": "3098eb61",
   "metadata": {},
   "outputs": [
    {
     "name": "stdout",
     "output_type": "stream",
     "text": [
      "Song appearing most number of times in the Billboards Top 100 Charts is Levitating , Appearing 45 times.\n"
     ]
    }
   ],
   "source": [
    "song = df['song'].value_counts()\n",
    "print('Song appearing most number of times in the Billboards Top 100 Charts is', song.idxmax(), ', Appearing', song.max(), 'times.' )"
   ]
  },
  {
   "cell_type": "markdown",
   "id": "267d120d",
   "metadata": {},
   "source": [
    "### Top 5 Artist for the year 2021"
   ]
  },
  {
   "cell_type": "markdown",
   "id": "1c833cc6",
   "metadata": {},
   "source": [
    "Top 5 Artist by number of entries in the billboard top 100 for year 2021,"
   ]
  },
  {
   "cell_type": "code",
   "execution_count": 11,
   "id": "b7980eb2",
   "metadata": {
    "scrolled": false
   },
   "outputs": [
    {
     "data": {
      "text/plain": [
       "<AxesSubplot:xlabel='artist', ylabel='count'>"
      ]
     },
     "execution_count": 11,
     "metadata": {},
     "output_type": "execute_result"
    },
    {
     "data": {
      "image/png": "[encoded data removed]",
      "text/plain": [
       "<Figure size 640x480 with 1 Axes>"
      ]
     },
     "metadata": {},
     "output_type": "display_data"
    }
   ],
   "source": [
    "sns.countplot(x=\"artist\", data=df, palette=\"Set2\", order=df['artist'].value_counts().index[0:5])"
   ]
  },
  {
   "cell_type": "markdown",
   "id": "3c2e5d4c",
   "metadata": {},
   "source": [
    "The top 5 artits for the year 2021, by most number of entries in the billboard top 100 chart, are ***Olivia Rodrigo, Morgan Wallen, Doja Cat, Luke Combs, The Weeknd***."
   ]
  },
  {
   "cell_type": "markdown",
   "id": "b7fab87d",
   "metadata": {},
   "source": [
    "### Top songs of Top 2 Artists"
   ]
  },
  {
   "cell_type": "markdown",
   "id": "08e14017",
   "metadata": {},
   "source": [
    "All the songs by the top 2 artist, distributed aaccording to number fo weeks on board."
   ]
  },
  {
   "cell_type": "markdown",
   "id": "f1caf5c1",
   "metadata": {},
   "source": [
    "#### Olivia Rodrigo"
   ]
  },
  {
   "cell_type": "code",
   "execution_count": 45,
   "id": "414b2a08",
   "metadata": {},
   "outputs": [
    {
     "data": {
      "text/plain": [
       "<AxesSubplot:xlabel='weeks-on-board', ylabel='song'>"
      ]
     },
     "execution_count": 45,
     "metadata": {},
     "output_type": "execute_result"
    },
    {
     "data": {
      "image/png": "[encoded data removed]",
      "text/plain": [
       "<Figure size 640x480 with 1 Axes>"
      ]
     },
     "metadata": {},
     "output_type": "display_data"
    }
   ],
   "source": [
    "olrd = df[df['artist'] == 'Olivia Rodrigo']\n",
    "olrd = olrd.sort_values(by=['weeks-on-board'], ascending = False)\n",
    "sns.barplot( y=olrd['song'], x=olrd['weeks-on-board'], data = olrd)"
   ]
  },
  {
   "cell_type": "markdown",
   "id": "0ed214cb",
   "metadata": {},
   "source": [
    "The top 5 songs for ***Olivia Rodrigo*** are, ***Deja Vu, Drivers License, Good 4 U, Traitor and Favorite Crime***."
   ]
  },
  {
   "cell_type": "markdown",
   "id": "2c8ead8c",
   "metadata": {},
   "source": [
    "#### Morgan Wallen"
   ]
  },
  {
   "cell_type": "code",
   "execution_count": 38,
   "id": "794af61d",
   "metadata": {},
   "outputs": [
    {
     "data": {
      "text/plain": [
       "<AxesSubplot:xlabel='weeks-on-board', ylabel='song'>"
      ]
     },
     "execution_count": 38,
     "metadata": {},
     "output_type": "execute_result"
    },
    {
     "data": {
      "image/png": "[encoded data removed]",
      "text/plain": [
       "<Figure size 640x480 with 1 Axes>"
      ]
     },
     "metadata": {},
     "output_type": "display_data"
    }
   ],
   "source": [
    "mrwa = df[df['artist'] == 'Morgan Wallen']\n",
    "mrwa = mrwa.sort_values(by=['weeks-on-board'], ascending = False)\n",
    "sns.barplot( y='song', x='weeks-on-board', data = mrwa)"
   ]
  },
  {
   "cell_type": "markdown",
   "id": "46dd3cb7",
   "metadata": {},
   "source": [
    "The top 5 songs form ***Morgan Wallen*** are, ***More Than My Hometown, 7 Summers, Wasted on You, Sand in my Boots and Somebodys Problem***. "
   ]
  },
  {
   "cell_type": "markdown",
   "id": "60758fc5",
   "metadata": {},
   "source": [
    "### Top 5 songs "
   ]
  },
  {
   "cell_type": "markdown",
   "id": "c73a5276",
   "metadata": {},
   "source": [
    "Top 5 songs by appearing most times on number 1 rank for the year 2021."
   ]
  },
  {
   "cell_type": "code",
   "execution_count": 12,
   "id": "3e7c27ef",
   "metadata": {
    "scrolled": false
   },
   "outputs": [
    {
     "data": {
      "text/plain": [
       "<AxesSubplot:xlabel='song', ylabel='freq'>"
      ]
     },
     "execution_count": 12,
     "metadata": {},
     "output_type": "execute_result"
    },
    {
     "data": {
      "image/png": "[encoded data removed]",
      "text/plain": [
       "<Figure size 640x480 with 1 Axes>"
      ]
     },
     "metadata": {},
     "output_type": "display_data"
    }
   ],
   "source": [
    "song1 = df[df['rank']==1]\n",
    "s = pd.DataFrame(song1['song'].value_counts())\n",
    "s = s.reset_index()\n",
    "s = s.rename(columns = {\n",
    "    'index' : 'song',\n",
    "    'song' : 'freq'\n",
    "})\n",
    "\n",
    "sns.barplot(x=\"song\", y = 'freq',  data=s.nlargest(5, 'freq'), palette=\"Set2\")"
   ]
  },
  {
   "cell_type": "markdown",
   "id": "63c18752",
   "metadata": {},
   "source": [
    "# Conclusion"
   ]
  },
  {
   "cell_type": "markdown",
   "id": "c32e1b38",
   "metadata": {},
   "source": [
    "In conclusion, the EDA (Exploratory Data Analysis) pipeline on the Billboard Top 100 dataset has provided valuable insights into the characteristics and trends of popular music for the year 2021. Through the use of data visualization techniques and statistical analysis, we have uncovered various patterns and relationships between different variables, such as Rank, Weeks on Board and Peak Rank.\n",
    "\n",
    "Some key findings from our analysis include the fact that despite the music industry having majority male artists, for the year 2021, the top artist was a Woman, ***Olivia Rodrigo*** and the top thirs was also a woman, ***Doja Cat***. Another important insight in terms of diversity in the music industry is that songs that were ranked number 1 most number of time throughout the tear of 2021, is ***Buttter by BTS***, a Korean Pop Band. .\n",
    "\n",
    "Overall, our EDA pipeline has provided us with a deeper understanding of the Billboard Top 100 dataset and the trends in popular music. These insights can be used to inform future research and analysis in the field of music, as well as to guide decision-making in the music industry."
   ]
  },
  {
   "cell_type": "markdown",
   "id": "3d594818",
   "metadata": {},
   "source": [
    "# Reference"
   ]
  },
  {
   "cell_type": "markdown",
   "id": "5c98caac",
   "metadata": {},
   "source": [
    "https://www.kaggle.com/datasets/dhruvildave/billboard-the-hot-100-songs?resource=download"
   ]
  }
 ],
 "metadata": {
  "kernelspec": {
   "display_name": "Python 3 (ipykernel)",
   "language": "python",
   "name": "python3"
  },
  "language_info": {
   "codemirror_mode": {
    "name": "ipython",
    "version": 3
   },
   "file_extension": ".py",
   "mimetype": "text/x-python",
   "name": "python",
   "nbconvert_exporter": "python",
   "pygments_lexer": "ipython3",
   "version": "3.10.7"
  }
 },
 "nbformat": 4,
 "nbformat_minor": 5
}
